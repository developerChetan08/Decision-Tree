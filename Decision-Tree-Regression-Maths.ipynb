{
 "cells": [
  {
   "cell_type": "code",
   "execution_count": 1,
   "id": "412bed63",
   "metadata": {},
   "outputs": [],
   "source": [
    "import numpy as np\n",
    "import pandas as pd"
   ]
  },
  {
   "cell_type": "code",
   "execution_count": 2,
   "id": "78763978",
   "metadata": {},
   "outputs": [
    {
     "data": {
      "text/html": [
       "<div>\n",
       "<style scoped>\n",
       "    .dataframe tbody tr th:only-of-type {\n",
       "        vertical-align: middle;\n",
       "    }\n",
       "\n",
       "    .dataframe tbody tr th {\n",
       "        vertical-align: top;\n",
       "    }\n",
       "\n",
       "    .dataframe thead th {\n",
       "        text-align: right;\n",
       "    }\n",
       "</style>\n",
       "<table border=\"1\" class=\"dataframe\">\n",
       "  <thead>\n",
       "    <tr style=\"text-align: right;\">\n",
       "      <th></th>\n",
       "      <th>Outlook</th>\n",
       "      <th>Temperature</th>\n",
       "      <th>Humidity</th>\n",
       "      <th>Wind</th>\n",
       "      <th>Hrs Played</th>\n",
       "    </tr>\n",
       "  </thead>\n",
       "  <tbody>\n",
       "    <tr>\n",
       "      <th>0</th>\n",
       "      <td>Sunny</td>\n",
       "      <td>Hot</td>\n",
       "      <td>High</td>\n",
       "      <td>Weak</td>\n",
       "      <td>25</td>\n",
       "    </tr>\n",
       "    <tr>\n",
       "      <th>1</th>\n",
       "      <td>Sunny</td>\n",
       "      <td>Hot</td>\n",
       "      <td>High</td>\n",
       "      <td>Strong</td>\n",
       "      <td>30</td>\n",
       "    </tr>\n",
       "    <tr>\n",
       "      <th>2</th>\n",
       "      <td>Overcast</td>\n",
       "      <td>Hot</td>\n",
       "      <td>High</td>\n",
       "      <td>Weak</td>\n",
       "      <td>46</td>\n",
       "    </tr>\n",
       "    <tr>\n",
       "      <th>3</th>\n",
       "      <td>Rain</td>\n",
       "      <td>Mild</td>\n",
       "      <td>High</td>\n",
       "      <td>Weak</td>\n",
       "      <td>45</td>\n",
       "    </tr>\n",
       "    <tr>\n",
       "      <th>4</th>\n",
       "      <td>Rain</td>\n",
       "      <td>Cool</td>\n",
       "      <td>Normal</td>\n",
       "      <td>Weak</td>\n",
       "      <td>52</td>\n",
       "    </tr>\n",
       "  </tbody>\n",
       "</table>\n",
       "</div>"
      ],
      "text/plain": [
       "    Outlook Temperature Humidity    Wind  Hrs Played\n",
       "0     Sunny         Hot     High    Weak          25\n",
       "1     Sunny         Hot     High  Strong          30\n",
       "2  Overcast         Hot     High    Weak          46\n",
       "3      Rain        Mild     High    Weak          45\n",
       "4      Rain        Cool   Normal    Weak          52"
      ]
     },
     "execution_count": 2,
     "metadata": {},
     "output_type": "execute_result"
    }
   ],
   "source": [
    "df = pd.read_csv(\"dt-maths.csv\")\n",
    "df.head()"
   ]
  },
  {
   "cell_type": "code",
   "execution_count": 3,
   "id": "5f4b814f",
   "metadata": {},
   "outputs": [
    {
     "data": {
      "text/plain": [
       "39.785714285714285"
      ]
     },
     "execution_count": 3,
     "metadata": {},
     "output_type": "execute_result"
    }
   ],
   "source": [
    "HP_Mean = df['Hrs Played'].mean()\n",
    "HP_Mean"
   ]
  },
  {
   "cell_type": "code",
   "execution_count": 4,
   "id": "67acde90",
   "metadata": {},
   "outputs": [
    {
     "data": {
      "text/plain": [
       "9.672948571450904"
      ]
     },
     "execution_count": 4,
     "metadata": {},
     "output_type": "execute_result"
    }
   ],
   "source": [
    "HP_Std = df['Hrs Played'].std()\n",
    "HP_Std"
   ]
  },
  {
   "cell_type": "code",
   "execution_count": 5,
   "id": "52d0568e",
   "metadata": {},
   "outputs": [
    {
     "data": {
      "text/plain": [
       "24.31261759431107"
      ]
     },
     "execution_count": 5,
     "metadata": {},
     "output_type": "execute_result"
    }
   ],
   "source": [
    "HP_CV = (HP_Std/HP_Mean)*100\n",
    "HP_CV"
   ]
  },
  {
   "cell_type": "markdown",
   "id": "98da4c9e",
   "metadata": {},
   "source": [
    "# Outlook Col:-"
   ]
  },
  {
   "cell_type": "code",
   "execution_count": 6,
   "id": "767963ec",
   "metadata": {},
   "outputs": [
    {
     "data": {
      "text/plain": [
       "Sunny       5\n",
       "Rain        5\n",
       "Overcast    4\n",
       "Name: Outlook, dtype: int64"
      ]
     },
     "execution_count": 6,
     "metadata": {},
     "output_type": "execute_result"
    }
   ],
   "source": [
    "df[\"Outlook\"].value_counts()"
   ]
  },
  {
   "cell_type": "markdown",
   "id": "27b137f1",
   "metadata": {},
   "source": [
    "Sunny Value For:-"
   ]
  },
  {
   "cell_type": "code",
   "execution_count": 7,
   "id": "ce8b8784",
   "metadata": {},
   "outputs": [
    {
     "data": {
      "text/html": [
       "<div>\n",
       "<style scoped>\n",
       "    .dataframe tbody tr th:only-of-type {\n",
       "        vertical-align: middle;\n",
       "    }\n",
       "\n",
       "    .dataframe tbody tr th {\n",
       "        vertical-align: top;\n",
       "    }\n",
       "\n",
       "    .dataframe thead th {\n",
       "        text-align: right;\n",
       "    }\n",
       "</style>\n",
       "<table border=\"1\" class=\"dataframe\">\n",
       "  <thead>\n",
       "    <tr style=\"text-align: right;\">\n",
       "      <th></th>\n",
       "      <th>Outlook</th>\n",
       "      <th>Temperature</th>\n",
       "      <th>Humidity</th>\n",
       "      <th>Wind</th>\n",
       "      <th>Hrs Played</th>\n",
       "    </tr>\n",
       "  </thead>\n",
       "  <tbody>\n",
       "    <tr>\n",
       "      <th>0</th>\n",
       "      <td>Sunny</td>\n",
       "      <td>Hot</td>\n",
       "      <td>High</td>\n",
       "      <td>Weak</td>\n",
       "      <td>25</td>\n",
       "    </tr>\n",
       "    <tr>\n",
       "      <th>1</th>\n",
       "      <td>Sunny</td>\n",
       "      <td>Hot</td>\n",
       "      <td>High</td>\n",
       "      <td>Strong</td>\n",
       "      <td>30</td>\n",
       "    </tr>\n",
       "    <tr>\n",
       "      <th>7</th>\n",
       "      <td>Sunny</td>\n",
       "      <td>Mild</td>\n",
       "      <td>High</td>\n",
       "      <td>Weak</td>\n",
       "      <td>35</td>\n",
       "    </tr>\n",
       "    <tr>\n",
       "      <th>8</th>\n",
       "      <td>Sunny</td>\n",
       "      <td>Cool</td>\n",
       "      <td>Normal</td>\n",
       "      <td>Weak</td>\n",
       "      <td>38</td>\n",
       "    </tr>\n",
       "    <tr>\n",
       "      <th>10</th>\n",
       "      <td>Sunny</td>\n",
       "      <td>Mild</td>\n",
       "      <td>Normal</td>\n",
       "      <td>Strong</td>\n",
       "      <td>48</td>\n",
       "    </tr>\n",
       "  </tbody>\n",
       "</table>\n",
       "</div>"
      ],
      "text/plain": [
       "   Outlook Temperature Humidity    Wind  Hrs Played\n",
       "0    Sunny         Hot     High    Weak          25\n",
       "1    Sunny         Hot     High  Strong          30\n",
       "7    Sunny        Mild     High    Weak          35\n",
       "8    Sunny        Cool   Normal    Weak          38\n",
       "10   Sunny        Mild   Normal  Strong          48"
      ]
     },
     "execution_count": 7,
     "metadata": {},
     "output_type": "execute_result"
    }
   ],
   "source": [
    "Sunny = df[df[\"Outlook\"]==\"Sunny\"]\n",
    "Sunny"
   ]
  },
  {
   "cell_type": "code",
   "execution_count": 8,
   "id": "3c0aba4c",
   "metadata": {},
   "outputs": [
    {
     "data": {
      "text/plain": [
       "5"
      ]
     },
     "execution_count": 8,
     "metadata": {},
     "output_type": "execute_result"
    }
   ],
   "source": [
    "Sunny_Len = len(Sunny)\n",
    "Sunny_Len"
   ]
  },
  {
   "cell_type": "code",
   "execution_count": 9,
   "id": "be12abb7",
   "metadata": {},
   "outputs": [
    {
     "name": "stderr",
     "output_type": "stream",
     "text": [
      "C:\\Users\\hp\\AppData\\Local\\Temp\\ipykernel_14100\\4075461051.py:1: FutureWarning: Dropping of nuisance columns in DataFrame reductions (with 'numeric_only=None') is deprecated; in a future version this will raise TypeError.  Select only valid columns before calling the reduction.\n",
      "  Sunny_Std = Sunny.std()\n"
     ]
    },
    {
     "data": {
      "text/plain": [
       "Hrs Played    8.700575\n",
       "dtype: float64"
      ]
     },
     "execution_count": 9,
     "metadata": {},
     "output_type": "execute_result"
    }
   ],
   "source": [
    "Sunny_Std = Sunny.std()\n",
    "Sunny_Std"
   ]
  },
  {
   "cell_type": "markdown",
   "id": "2b5b4ee8",
   "metadata": {},
   "source": [
    "Overcast Value For:-"
   ]
  },
  {
   "cell_type": "code",
   "execution_count": 10,
   "id": "2cfdc29a",
   "metadata": {},
   "outputs": [
    {
     "name": "stdout",
     "output_type": "stream",
     "text": [
      "     Outlook Temperature Humidity    Wind  Hrs Played\n",
      "2   Overcast         Hot     High    Weak          46\n",
      "6   Overcast        Cool   Normal  Strong          43\n",
      "11  Overcast        Mild     High  Strong          52\n",
      "12  Overcast         Hot   Normal    Weak          44\n",
      "-----------------------------------------------------\n",
      "4\n",
      "-----------------------------------------------------\n",
      "Hrs Played    4.031129\n",
      "dtype: float64\n"
     ]
    },
    {
     "name": "stderr",
     "output_type": "stream",
     "text": [
      "C:\\Users\\hp\\AppData\\Local\\Temp\\ipykernel_14100\\2823487635.py:9: FutureWarning: Dropping of nuisance columns in DataFrame reductions (with 'numeric_only=None') is deprecated; in a future version this will raise TypeError.  Select only valid columns before calling the reduction.\n",
      "  Overcast_Std = Overcast.std()\n"
     ]
    }
   ],
   "source": [
    "Overcast = df[df[\"Outlook\"]==\"Overcast\"]\n",
    "print(Overcast)\n",
    "print(\"-----------------------------------------------------\")\n",
    "\n",
    "Overcast_Len = len(Overcast)\n",
    "print(Overcast_Len)\n",
    "print(\"-----------------------------------------------------\")\n",
    "\n",
    "Overcast_Std = Overcast.std()\n",
    "print(Overcast_Std)"
   ]
  },
  {
   "cell_type": "markdown",
   "id": "0653bc58",
   "metadata": {},
   "source": [
    "Rain Value For:-"
   ]
  },
  {
   "cell_type": "code",
   "execution_count": 11,
   "id": "865fcbca",
   "metadata": {},
   "outputs": [
    {
     "name": "stdout",
     "output_type": "stream",
     "text": [
      "   Outlook Temperature Humidity    Wind  Hrs Played\n",
      "3     Rain        Mild     High    Weak          45\n",
      "4     Rain        Cool   Normal    Weak          52\n",
      "5     Rain        Cool   Normal  Strong          23\n",
      "9     Rain        Mild   Normal    Weak          46\n",
      "13    Rain        Mild     High  Strong          30\n",
      "-----------------------------------------------------\n",
      "5\n",
      "-----------------------------------------------------\n",
      "Hrs Played    12.153189\n",
      "dtype: float64\n"
     ]
    },
    {
     "name": "stderr",
     "output_type": "stream",
     "text": [
      "C:\\Users\\hp\\AppData\\Local\\Temp\\ipykernel_14100\\3714471679.py:9: FutureWarning: Dropping of nuisance columns in DataFrame reductions (with 'numeric_only=None') is deprecated; in a future version this will raise TypeError.  Select only valid columns before calling the reduction.\n",
      "  Rain_Std = Rain.std()\n"
     ]
    }
   ],
   "source": [
    "Rain = df[df[\"Outlook\"]==\"Rain\"]\n",
    "print(Rain)\n",
    "print(\"-----------------------------------------------------\")\n",
    "\n",
    "Rain_Len = len(Rain)\n",
    "print(Rain_Len)\n",
    "print(\"-----------------------------------------------------\")\n",
    "\n",
    "Rain_Std = Rain.std()\n",
    "print(Rain_Std)"
   ]
  },
  {
   "cell_type": "code",
   "execution_count": 12,
   "id": "8dada0fe",
   "metadata": {},
   "outputs": [
    {
     "data": {
      "text/plain": [
       "14"
      ]
     },
     "execution_count": 12,
     "metadata": {},
     "output_type": "execute_result"
    }
   ],
   "source": [
    "DF_Len = len(df)\n",
    "DF_Len"
   ]
  },
  {
   "cell_type": "code",
   "execution_count": 13,
   "id": "5613fbae",
   "metadata": {},
   "outputs": [
    {
     "data": {
      "text/plain": [
       "Hrs Played    8.599524\n",
       "dtype: float64"
      ]
     },
     "execution_count": 13,
     "metadata": {},
     "output_type": "execute_result"
    }
   ],
   "source": [
    "Outlook_Reduction=((Sunny_Len/DF_Len)*Sunny_Std)+((Overcast_Len/DF_Len)*Overcast_Std)+((Rain_Len/DF_Len)*Rain_Std)\n",
    "Outlook_Reduction"
   ]
  },
  {
   "cell_type": "markdown",
   "id": "98bcf485",
   "metadata": {},
   "source": [
    "# Temperature Col:-"
   ]
  },
  {
   "cell_type": "code",
   "execution_count": 14,
   "id": "57224476",
   "metadata": {},
   "outputs": [
    {
     "data": {
      "text/plain": [
       "Mild    6\n",
       "Hot     4\n",
       "Cool    4\n",
       "Name: Temperature, dtype: int64"
      ]
     },
     "execution_count": 14,
     "metadata": {},
     "output_type": "execute_result"
    }
   ],
   "source": [
    "df[\"Temperature\"].value_counts()"
   ]
  },
  {
   "cell_type": "markdown",
   "id": "8b884603",
   "metadata": {},
   "source": [
    "Hot Value For:-"
   ]
  },
  {
   "cell_type": "code",
   "execution_count": 15,
   "id": "c0b1d799",
   "metadata": {},
   "outputs": [
    {
     "name": "stdout",
     "output_type": "stream",
     "text": [
      "     Outlook Temperature Humidity    Wind  Hrs Played\n",
      "0      Sunny         Hot     High    Weak          25\n",
      "1      Sunny         Hot     High  Strong          30\n",
      "2   Overcast         Hot     High    Weak          46\n",
      "12  Overcast         Hot   Normal    Weak          44\n",
      "-----------------------------------------------------\n",
      "4\n",
      "-----------------------------------------------------\n",
      "Hrs Played    10.340052\n",
      "dtype: float64\n"
     ]
    },
    {
     "name": "stderr",
     "output_type": "stream",
     "text": [
      "C:\\Users\\hp\\AppData\\Local\\Temp\\ipykernel_14100\\314534102.py:9: FutureWarning: Dropping of nuisance columns in DataFrame reductions (with 'numeric_only=None') is deprecated; in a future version this will raise TypeError.  Select only valid columns before calling the reduction.\n",
      "  Hot_Std = Hot.std()\n"
     ]
    }
   ],
   "source": [
    "Hot = df[df[\"Temperature\"]==\"Hot\"]\n",
    "print(Hot)\n",
    "print(\"-----------------------------------------------------\")\n",
    "\n",
    "Hot_Len = len(Hot)\n",
    "print(Hot_Len)\n",
    "print(\"-----------------------------------------------------\")\n",
    "\n",
    "Hot_Std = Hot.std()\n",
    "print(Hot_Std)"
   ]
  },
  {
   "cell_type": "markdown",
   "id": "6fed9d90",
   "metadata": {},
   "source": [
    "Mild Value For:-"
   ]
  },
  {
   "cell_type": "code",
   "execution_count": 16,
   "id": "edfb579e",
   "metadata": {},
   "outputs": [
    {
     "name": "stdout",
     "output_type": "stream",
     "text": [
      "     Outlook Temperature Humidity    Wind  Hrs Played\n",
      "3       Rain        Mild     High    Weak          45\n",
      "7      Sunny        Mild     High    Weak          35\n",
      "9       Rain        Mild   Normal    Weak          46\n",
      "10     Sunny        Mild   Normal  Strong          48\n",
      "11  Overcast        Mild     High  Strong          52\n",
      "13      Rain        Mild     High  Strong          30\n",
      "-----------------------------------------------------\n",
      "6\n",
      "-----------------------------------------------------\n",
      "Hrs Played    8.382521\n",
      "dtype: float64\n"
     ]
    },
    {
     "name": "stderr",
     "output_type": "stream",
     "text": [
      "C:\\Users\\hp\\AppData\\Local\\Temp\\ipykernel_14100\\1057012028.py:9: FutureWarning: Dropping of nuisance columns in DataFrame reductions (with 'numeric_only=None') is deprecated; in a future version this will raise TypeError.  Select only valid columns before calling the reduction.\n",
      "  Mild_Std = Mild.std()\n"
     ]
    }
   ],
   "source": [
    "Mild = df[df[\"Temperature\"]==\"Mild\"]\n",
    "print(Mild)\n",
    "print(\"-----------------------------------------------------\")\n",
    "\n",
    "Mild_Len = len(Mild)\n",
    "print(Mild_Len)\n",
    "print(\"-----------------------------------------------------\")\n",
    "\n",
    "Mild_Std = Mild.std()\n",
    "print(Mild_Std)"
   ]
  },
  {
   "cell_type": "markdown",
   "id": "fff8af1b",
   "metadata": {},
   "source": [
    "Cool Value For:-"
   ]
  },
  {
   "cell_type": "code",
   "execution_count": 17,
   "id": "273f1ea4",
   "metadata": {},
   "outputs": [
    {
     "name": "stdout",
     "output_type": "stream",
     "text": [
      "    Outlook Temperature Humidity    Wind  Hrs Played\n",
      "4      Rain        Cool   Normal    Weak          52\n",
      "5      Rain        Cool   Normal  Strong          23\n",
      "6  Overcast        Cool   Normal  Strong          43\n",
      "8     Sunny        Cool   Normal    Weak          38\n",
      "-----------------------------------------------------\n",
      "4\n",
      "-----------------------------------------------------\n",
      "Hrs Played    12.138094\n",
      "dtype: float64\n"
     ]
    },
    {
     "name": "stderr",
     "output_type": "stream",
     "text": [
      "C:\\Users\\hp\\AppData\\Local\\Temp\\ipykernel_14100\\2697042235.py:9: FutureWarning: Dropping of nuisance columns in DataFrame reductions (with 'numeric_only=None') is deprecated; in a future version this will raise TypeError.  Select only valid columns before calling the reduction.\n",
      "  Cool_Std = Cool.std()\n"
     ]
    }
   ],
   "source": [
    "Cool = df[df[\"Temperature\"]==\"Cool\"]\n",
    "print(Cool)\n",
    "print(\"-----------------------------------------------------\")\n",
    "\n",
    "Cool_Len = len(Cool)\n",
    "print(Cool_Len)\n",
    "print(\"-----------------------------------------------------\")\n",
    "\n",
    "Cool_Std = Cool.std()\n",
    "print(Cool_Std)"
   ]
  },
  {
   "cell_type": "code",
   "execution_count": 18,
   "id": "f4fc6fe2",
   "metadata": {},
   "outputs": [
    {
     "data": {
      "text/plain": [
       "Hrs Played    10.014837\n",
       "dtype: float64"
      ]
     },
     "execution_count": 18,
     "metadata": {},
     "output_type": "execute_result"
    }
   ],
   "source": [
    "Temperature_Reduction=((Hot_Len/DF_Len)*Hot_Std)+((Mild_Len/DF_Len)*Mild_Std)+((Cool_Len/DF_Len)*Cool_Std)\n",
    "Temperature_Reduction"
   ]
  },
  {
   "cell_type": "markdown",
   "id": "dcdfc446",
   "metadata": {},
   "source": [
    "# Humidity Col:-"
   ]
  },
  {
   "cell_type": "code",
   "execution_count": 19,
   "id": "267d9e44",
   "metadata": {},
   "outputs": [
    {
     "data": {
      "text/plain": [
       "High      7\n",
       "Normal    7\n",
       "Name: Humidity, dtype: int64"
      ]
     },
     "execution_count": 19,
     "metadata": {},
     "output_type": "execute_result"
    }
   ],
   "source": [
    "df[\"Humidity\"].value_counts()"
   ]
  },
  {
   "cell_type": "markdown",
   "id": "773ae2b9",
   "metadata": {},
   "source": [
    "High Value For:- "
   ]
  },
  {
   "cell_type": "code",
   "execution_count": 20,
   "id": "7501c60f",
   "metadata": {},
   "outputs": [
    {
     "name": "stdout",
     "output_type": "stream",
     "text": [
      "     Outlook Temperature Humidity    Wind  Hrs Played\n",
      "0      Sunny         Hot     High    Weak          25\n",
      "1      Sunny         Hot     High  Strong          30\n",
      "2   Overcast         Hot     High    Weak          46\n",
      "3       Rain        Mild     High    Weak          45\n",
      "7      Sunny        Mild     High    Weak          35\n",
      "11  Overcast        Mild     High  Strong          52\n",
      "13      Rain        Mild     High  Strong          30\n",
      "-----------------------------------------------------\n",
      "7\n",
      "-----------------------------------------------------\n",
      "Hrs Played    10.11364\n",
      "dtype: float64\n"
     ]
    },
    {
     "name": "stderr",
     "output_type": "stream",
     "text": [
      "C:\\Users\\hp\\AppData\\Local\\Temp\\ipykernel_14100\\1294687004.py:9: FutureWarning: Dropping of nuisance columns in DataFrame reductions (with 'numeric_only=None') is deprecated; in a future version this will raise TypeError.  Select only valid columns before calling the reduction.\n",
      "  High_Std = High.std()\n"
     ]
    }
   ],
   "source": [
    "High = df[df[\"Humidity\"]==\"High\"]\n",
    "print(High)\n",
    "print(\"-----------------------------------------------------\")\n",
    "\n",
    "High_Len = len(High)\n",
    "print(High_Len)\n",
    "print(\"-----------------------------------------------------\")\n",
    "\n",
    "High_Std = High.std()\n",
    "print(High_Std)"
   ]
  },
  {
   "cell_type": "markdown",
   "id": "3afc68a5",
   "metadata": {},
   "source": [
    "Normal Value For:-"
   ]
  },
  {
   "cell_type": "code",
   "execution_count": 21,
   "id": "5868994a",
   "metadata": {},
   "outputs": [
    {
     "name": "stdout",
     "output_type": "stream",
     "text": [
      "     Outlook Temperature Humidity    Wind  Hrs Played\n",
      "4       Rain        Cool   Normal    Weak          52\n",
      "5       Rain        Cool   Normal  Strong          23\n",
      "6   Overcast        Cool   Normal  Strong          43\n",
      "8      Sunny        Cool   Normal    Weak          38\n",
      "9       Rain        Mild   Normal    Weak          46\n",
      "10     Sunny        Mild   Normal  Strong          48\n",
      "12  Overcast         Hot   Normal    Weak          44\n",
      "-----------------------------------------------------\n",
      "7\n",
      "-----------------------------------------------------\n",
      "Hrs Played    9.433981\n",
      "dtype: float64\n"
     ]
    },
    {
     "name": "stderr",
     "output_type": "stream",
     "text": [
      "C:\\Users\\hp\\AppData\\Local\\Temp\\ipykernel_14100\\3669627072.py:9: FutureWarning: Dropping of nuisance columns in DataFrame reductions (with 'numeric_only=None') is deprecated; in a future version this will raise TypeError.  Select only valid columns before calling the reduction.\n",
      "  Normal_Std = Normal.std()\n"
     ]
    }
   ],
   "source": [
    "Normal = df[df[\"Humidity\"]==\"Normal\"]\n",
    "print(Normal)\n",
    "print(\"-----------------------------------------------------\")\n",
    "\n",
    "Normal_Len = len(Normal)\n",
    "print(Normal_Len)\n",
    "print(\"-----------------------------------------------------\")\n",
    "\n",
    "Normal_Std = Normal.std()\n",
    "print(Normal_Std)"
   ]
  },
  {
   "cell_type": "code",
   "execution_count": 22,
   "id": "7b2968da",
   "metadata": {},
   "outputs": [
    {
     "data": {
      "text/plain": [
       "Hrs Played    9.773811\n",
       "dtype: float64"
      ]
     },
     "execution_count": 22,
     "metadata": {},
     "output_type": "execute_result"
    }
   ],
   "source": [
    "Humidity_Reduction=((High_Len/DF_Len)*High_Std)+((Normal_Len/DF_Len)*Normal_Std)\n",
    "Humidity_Reduction"
   ]
  },
  {
   "cell_type": "markdown",
   "id": "92f17227",
   "metadata": {},
   "source": [
    "# Wind Col:-"
   ]
  },
  {
   "cell_type": "code",
   "execution_count": 23,
   "id": "aebc58e2",
   "metadata": {},
   "outputs": [
    {
     "data": {
      "text/plain": [
       "Weak      8\n",
       "Strong    6\n",
       "Name: Wind, dtype: int64"
      ]
     },
     "execution_count": 23,
     "metadata": {},
     "output_type": "execute_result"
    }
   ],
   "source": [
    "df[\"Wind\"].value_counts()"
   ]
  },
  {
   "cell_type": "markdown",
   "id": "6c681e68",
   "metadata": {},
   "source": [
    "Weak Value For:-"
   ]
  },
  {
   "cell_type": "code",
   "execution_count": 24,
   "id": "eddd2942",
   "metadata": {},
   "outputs": [
    {
     "name": "stdout",
     "output_type": "stream",
     "text": [
      "     Outlook Temperature Humidity  Wind  Hrs Played\n",
      "0      Sunny         Hot     High  Weak          25\n",
      "2   Overcast         Hot     High  Weak          46\n",
      "3       Rain        Mild     High  Weak          45\n",
      "4       Rain        Cool   Normal  Weak          52\n",
      "7      Sunny        Mild     High  Weak          35\n",
      "8      Sunny        Cool   Normal  Weak          38\n",
      "9       Rain        Mild   Normal  Weak          46\n",
      "12  Overcast         Hot   Normal  Weak          44\n",
      "-----------------------------------------------------\n",
      "8\n",
      "-----------------------------------------------------\n",
      "Hrs Played    8.416608\n",
      "dtype: float64\n"
     ]
    },
    {
     "name": "stderr",
     "output_type": "stream",
     "text": [
      "C:\\Users\\hp\\AppData\\Local\\Temp\\ipykernel_14100\\2715023604.py:9: FutureWarning: Dropping of nuisance columns in DataFrame reductions (with 'numeric_only=None') is deprecated; in a future version this will raise TypeError.  Select only valid columns before calling the reduction.\n",
      "  Weak_Std = Weak.std()\n"
     ]
    }
   ],
   "source": [
    "Weak = df[df[\"Wind\"]==\"Weak\"]\n",
    "print(Weak)\n",
    "print(\"-----------------------------------------------------\")\n",
    "\n",
    "Weak_Len = len(Weak)\n",
    "print(Weak_Len)\n",
    "print(\"-----------------------------------------------------\")\n",
    "\n",
    "Weak_Std = Weak.std()\n",
    "print(Weak_Std)"
   ]
  },
  {
   "cell_type": "markdown",
   "id": "f913daff",
   "metadata": {},
   "source": [
    "Strong Value For:-"
   ]
  },
  {
   "cell_type": "code",
   "execution_count": 25,
   "id": "6ae81b86",
   "metadata": {},
   "outputs": [
    {
     "name": "stdout",
     "output_type": "stream",
     "text": [
      "     Outlook Temperature Humidity    Wind  Hrs Played\n",
      "1      Sunny         Hot     High  Strong          30\n",
      "5       Rain        Cool   Normal  Strong          23\n",
      "6   Overcast        Cool   Normal  Strong          43\n",
      "10     Sunny        Mild   Normal  Strong          48\n",
      "11  Overcast        Mild     High  Strong          52\n",
      "13      Rain        Mild     High  Strong          30\n",
      "-----------------------------------------------------\n",
      "6\n",
      "-----------------------------------------------------\n",
      "Hrs Played    11.604597\n",
      "dtype: float64\n"
     ]
    },
    {
     "name": "stderr",
     "output_type": "stream",
     "text": [
      "C:\\Users\\hp\\AppData\\Local\\Temp\\ipykernel_14100\\1711921229.py:9: FutureWarning: Dropping of nuisance columns in DataFrame reductions (with 'numeric_only=None') is deprecated; in a future version this will raise TypeError.  Select only valid columns before calling the reduction.\n",
      "  Strong_Std = Strong.std()\n"
     ]
    }
   ],
   "source": [
    "Strong = df[df[\"Wind\"]==\"Strong\"]\n",
    "print(Strong)\n",
    "print(\"-----------------------------------------------------\")\n",
    "\n",
    "Strong_Len = len(Strong)\n",
    "print(Strong_Len)\n",
    "print(\"-----------------------------------------------------\")\n",
    "\n",
    "Strong_Std = Strong.std()\n",
    "print(Strong_Std)"
   ]
  },
  {
   "cell_type": "code",
   "execution_count": 26,
   "id": "315e94ea",
   "metadata": {},
   "outputs": [
    {
     "data": {
      "text/plain": [
       "Hrs Played    9.782889\n",
       "dtype: float64"
      ]
     },
     "execution_count": 26,
     "metadata": {},
     "output_type": "execute_result"
    }
   ],
   "source": [
    "Wind_Reduction=((Weak_Len/DF_Len)*Weak_Std)+((Strong_Len/DF_Len)*Strong_Std)\n",
    "Wind_Reduction"
   ]
  },
  {
   "cell_type": "code",
   "execution_count": 27,
   "id": "d6af4169",
   "metadata": {},
   "outputs": [
    {
     "name": "stdout",
     "output_type": "stream",
     "text": [
      "Hrs Played    1.073425\n",
      "dtype: float64\n",
      "-----------------------------------------------------\n",
      "Hrs Played   -0.341888\n",
      "dtype: float64\n",
      "-----------------------------------------------------\n",
      "Hrs Played   -0.100862\n",
      "dtype: float64\n",
      "-----------------------------------------------------\n",
      "Hrs Played   -0.10994\n",
      "dtype: float64\n",
      "-----------------------------------------------------\n"
     ]
    }
   ],
   "source": [
    "Outlook_SDR = HP_Std - Outlook_Reduction\n",
    "print(Outlook_SDR)\n",
    "print(\"-----------------------------------------------------\")\n",
    "\n",
    "Temperature_SDR = HP_Std - Temperature_Reduction\n",
    "print(Temperature_SDR)\n",
    "print(\"-----------------------------------------------------\")\n",
    "\n",
    "Humidity_SDR = HP_Std - Humidity_Reduction\n",
    "print(Humidity_SDR)\n",
    "print(\"-----------------------------------------------------\")\n",
    "\n",
    "Wind_SDR = HP_Std - Wind_Reduction\n",
    "print(Wind_SDR)\n",
    "print(\"-----------------------------------------------------\")"
   ]
  },
  {
   "cell_type": "code",
   "execution_count": null,
   "id": "5a7bddda",
   "metadata": {},
   "outputs": [],
   "source": []
  }
 ],
 "metadata": {
  "kernelspec": {
   "display_name": "Python 3 (ipykernel)",
   "language": "python",
   "name": "python3"
  },
  "language_info": {
   "codemirror_mode": {
    "name": "ipython",
    "version": 3
   },
   "file_extension": ".py",
   "mimetype": "text/x-python",
   "name": "python",
   "nbconvert_exporter": "python",
   "pygments_lexer": "ipython3",
   "version": "3.9.13"
  }
 },
 "nbformat": 4,
 "nbformat_minor": 5
}
